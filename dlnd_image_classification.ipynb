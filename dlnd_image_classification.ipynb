{
 "cells": [
  {
   "cell_type": "markdown",
   "metadata": {
    "collapsed": true
   },
   "source": [
    "# Image Classification\n",
    "In this project, you'll classify images from the [CIFAR-10 dataset](https://www.cs.toronto.edu/~kriz/cifar.html).  The dataset consists of airplanes, dogs, cats, and other objects. You'll preprocess the images, then train a convolutional neural network on all the samples. The images need to be normalized and the labels need to be one-hot encoded.  You'll get to apply what you learned and build a convolutional, max pooling, dropout, and fully connected layers.  At the end, you'll get to see your neural network's predictions on the sample images.\n",
    "## Get the Data\n",
    "Run the following cell to download the [CIFAR-10 dataset for python](https://www.cs.toronto.edu/~kriz/cifar-10-python.tar.gz)."
   ]
  },
  {
   "cell_type": "code",
   "execution_count": 1,
   "metadata": {},
   "outputs": [
    {
     "name": "stdout",
     "output_type": "stream",
     "text": [
      "All files found!\n"
     ]
    }
   ],
   "source": [
    "\"\"\"\n",
    "DON'T MODIFY ANYTHING IN THIS CELL THAT IS BELOW THIS LINE\n",
    "\"\"\"\n",
    "from urllib.request import urlretrieve\n",
    "from os.path import isfile, isdir\n",
    "from tqdm import tqdm\n",
    "import problem_unittests as tests\n",
    "import tarfile\n",
    "\n",
    "cifar10_dataset_folder_path = 'cifar-10-batches-py'\n",
    "\n",
    "# Use Floyd's cifar-10 dataset if present\n",
    "floyd_cifar10_location = '/input/cifar-10/python.tar.gz'\n",
    "if isfile(floyd_cifar10_location):\n",
    "    tar_gz_path = floyd_cifar10_location\n",
    "else:\n",
    "    tar_gz_path = 'cifar-10-python.tar.gz'\n",
    "\n",
    "class DLProgress(tqdm):\n",
    "    last_block = 0\n",
    "\n",
    "    def hook(self, block_num=1, block_size=1, total_size=None):\n",
    "        self.total = total_size\n",
    "        self.update((block_num - self.last_block) * block_size)\n",
    "        self.last_block = block_num\n",
    "\n",
    "if not isfile(tar_gz_path):\n",
    "    with DLProgress(unit='B', unit_scale=True, miniters=1, desc='CIFAR-10 Dataset') as pbar:\n",
    "        urlretrieve(\n",
    "            'https://www.cs.toronto.edu/~kriz/cifar-10-python.tar.gz',\n",
    "            tar_gz_path,\n",
    "            pbar.hook)\n",
    "\n",
    "if not isdir(cifar10_dataset_folder_path):\n",
    "    with tarfile.open(tar_gz_path) as tar:\n",
    "        tar.extractall()\n",
    "        tar.close()\n",
    "\n",
    "\n",
    "tests.test_folder_path(cifar10_dataset_folder_path)"
   ]
  },
  {
   "cell_type": "markdown",
   "metadata": {},
   "source": [
    "## Explore the Data\n",
    "The dataset is broken into batches to prevent your machine from running out of memory.  The CIFAR-10 dataset consists of 5 batches, named `data_batch_1`, `data_batch_2`, etc.. Each batch contains the labels and images that are one of the following:\n",
    "* airplane\n",
    "* automobile\n",
    "* bird\n",
    "* cat\n",
    "* deer\n",
    "* dog\n",
    "* frog\n",
    "* horse\n",
    "* ship\n",
    "* truck\n",
    "\n",
    "Understanding a dataset is part of making predictions on the data.  Play around with the code cell below by changing the `batch_id` and `sample_id`. The `batch_id` is the id for a batch (1-5). The `sample_id` is the id for a image and label pair in the batch.\n",
    "\n",
    "Ask yourself \"What are all possible labels?\", \"What is the range of values for the image data?\", \"Are the labels in order or random?\".  Answers to questions like these will help you preprocess the data and end up with better predictions."
   ]
  },
  {
   "cell_type": "code",
   "execution_count": 2,
   "metadata": {},
   "outputs": [
    {
     "name": "stderr",
     "output_type": "stream",
     "text": [
      "/usr/local/lib/python3.5/site-packages/matplotlib/font_manager.py:280: UserWarning: Matplotlib is building the font cache using fc-list. This may take a moment.\n",
      "  'Matplotlib is building the font cache using fc-list. '\n"
     ]
    },
    {
     "name": "stdout",
     "output_type": "stream",
     "text": [
      "\n",
      "Stats of batch 2:\n",
      "Samples: 10000\n",
      "Label Counts: {0: 984, 1: 1007, 2: 1010, 3: 995, 4: 1010, 5: 988, 6: 1008, 7: 1026, 8: 987, 9: 985}\n",
      "First 20 Labels: [1, 6, 6, 8, 8, 3, 4, 6, 0, 6, 0, 3, 6, 6, 5, 4, 8, 3, 2, 6]\n",
      "\n",
      "Example of Image 2:\n",
      "Image - Min Value: 0 Max Value: 240\n",
      "Image - Shape: (32, 32, 3)\n",
      "Label - Label Id: 6 Name: frog\n"
     ]
    },
    {
     "data": {
      "image/png": "[encoded data removed]",
      "text/plain": [
       "<matplotlib.figure.Figure at 0x7f288056dc50>"
      ]
     },
     "metadata": {
      "image/png": {
       "height": 250,
       "width": 253
      }
     },
     "output_type": "display_data"
    }
   ],
   "source": [
    "%matplotlib inline\n",
    "%config InlineBackend.figure_format = 'retina'\n",
    "\n",
    "import helper\n",
    "import numpy as np\n",
    "\n",
    "# Explore the dataset\n",
    "batch_id = 2\n",
    "sample_id = 2\n",
    "helper.display_stats(cifar10_dataset_folder_path, batch_id, sample_id)"
   ]
  },
  {
   "cell_type": "markdown",
   "metadata": {},
   "source": [
    "## Implement Preprocess Functions\n",
    "### Normalize\n",
    "In the cell below, implement the `normalize` function to take in image data, `x`, and return it as a normalized Numpy array. The values should be in the range of 0 to 1, inclusive.  The return object should be the same shape as `x`."
   ]
  },
  {
   "cell_type": "code",
   "execution_count": 3,
   "metadata": {},
   "outputs": [
    {
     "name": "stdout",
     "output_type": "stream",
     "text": [
      "Tests Passed\n"
     ]
    }
   ],
   "source": [
    "def normalize(x):\n",
    "    \"\"\"\n",
    "    Normalize a list of sample image data in the range of 0 to 1\n",
    "    : x: List of image data.  The image shape is (32, 32, 3)\n",
    "    : return: Numpy array of normalize data\n",
    "    \"\"\"\n",
    "    # TODO: Implement Function\n",
    "    a = 0.1\n",
    "    b = 0.9\n",
    "    grayscale_min = 0\n",
    "    grayscale_max = 255\n",
    "    return a + ( ( (x - grayscale_min)*(b - a) )/( grayscale_max - grayscale_min ) )\n",
    "\n",
    "\n",
    "\"\"\"\n",
    "DON'T MODIFY ANYTHING IN THIS CELL THAT IS BELOW THIS LINE\n",
    "\"\"\"\n",
    "tests.test_normalize(normalize)"
   ]
  },
  {
   "cell_type": "markdown",
   "metadata": {},
   "source": [
    "### One-hot encode\n",
    "Just like the previous code cell, you'll be implementing a function for preprocessing.  This time, you'll implement the `one_hot_encode` function. The input, `x`, are a list of labels.  Implement the function to return the list of labels as One-Hot encoded Numpy array.  The possible values for labels are 0 to 9. The one-hot encoding function should return the same encoding for each value between each call to `one_hot_encode`.  Make sure to save the map of encodings outside the function.\n",
    "\n",
    "Hint: Don't reinvent the wheel."
   ]
  },
  {
   "cell_type": "code",
   "execution_count": 5,
   "metadata": {},
   "outputs": [
    {
     "name": "stdout",
     "output_type": "stream",
     "text": [
      "Tests Passed\n"
     ]
    }
   ],
   "source": [
    "from sklearn import preprocessing\n",
    "lb = None\n",
    "def one_hot_encode(x):\n",
    "    \"\"\"\n",
    "    One hot encode a list of sample labels. Return a one-hot encoded vector for each label.\n",
    "    : x: List of sample Labels\n",
    "    : return: Numpy array of one-hot encoded labels\n",
    "    \"\"\"\n",
    "    # TODO: Implement Function\n",
    "    global lb\n",
    "    if lb is None:\n",
    "        lb = preprocessing.LabelBinarizer()\n",
    "        lb.fit(x)   \n",
    "    encodings = lb.transform(x)\n",
    "    #encodings = encodings.astype(np.float32)\n",
    "    return encodings\n",
    "\n",
    "\n",
    "\"\"\"\n",
    "DON'T MODIFY ANYTHING IN THIS CELL THAT IS BELOW THIS LINE\n",
    "\"\"\"\n",
    "tests.test_one_hot_encode(one_hot_encode)"
   ]
  },
  {
   "cell_type": "markdown",
   "metadata": {},
   "source": [
    "### Randomize Data\n",
    "As you saw from exploring the data above, the order of the samples are randomized.  It doesn't hurt to randomize it again, but you don't need to for this dataset."
   ]
  },
  {
   "cell_type": "markdown",
   "metadata": {},
   "source": [
    "## Preprocess all the data and save it\n",
    "Running the code cell below will preprocess all the CIFAR-10 data and save it to file. The code below also uses 10% of the training data for validation."
   ]
  },
  {
   "cell_type": "code",
   "execution_count": 6,
   "metadata": {
    "collapsed": true
   },
   "outputs": [],
   "source": [
    "\"\"\"\n",
    "DON'T MODIFY ANYTHING IN THIS CELL\n",
    "\"\"\"\n",
    "# Preprocess Training, Validation, and Testing Data\n",
    "helper.preprocess_and_save_data(cifar10_dataset_folder_path, normalize, one_hot_encode)"
   ]
  },
  {
   "cell_type": "markdown",
   "metadata": {},
   "source": [
    "# Check Point\n",
    "This is your first checkpoint.  If you ever decide to come back to this notebook or have to restart the notebook, you can start from here.  The preprocessed data has been saved to disk."
   ]
  },
  {
   "cell_type": "code",
   "execution_count": 7,
   "metadata": {
    "collapsed": true
   },
   "outputs": [],
   "source": [
    "\"\"\"\n",
    "DON'T MODIFY ANYTHING IN THIS CELL\n",
    "\"\"\"\n",
    "import pickle\n",
    "import problem_unittests as tests\n",
    "import helper\n",
    "\n",
    "# Load the Preprocessed Validation data\n",
    "valid_features, valid_labels = pickle.load(open('preprocess_validation.p', mode='rb'))"
   ]
  },
  {
   "cell_type": "markdown",
   "metadata": {},
   "source": [
    "## Build the network\n",
    "For the neural network, you'll build each layer into a function.  Most of the code you've seen has been outside of functions. To test your code more thoroughly, we require that you put each layer in a function.  This allows us to give you better feedback and test for simple mistakes using our unittests before you submit your project.\n",
    "\n",
    ">**Note:** If you're finding it hard to dedicate enough time for this course each week, we've provided a small shortcut to this part of the project. In the next couple of problems, you'll have the option to use classes from the [TensorFlow Layers](https://www.tensorflow.org/api_docs/python/tf/layers) or [TensorFlow Layers (contrib)](https://www.tensorflow.org/api_guides/python/contrib.layers) packages to build each layer, except the layers you build in the \"Convolutional and Max Pooling Layer\" section.  TF Layers is similar to Keras's and TFLearn's abstraction to layers, so it's easy to pickup.\n",
    "\n",
    ">However, if you would like to get the most out of this course, try to solve all the problems _without_ using anything from the TF Layers packages. You **can** still use classes from other packages that happen to have the same name as ones you find in TF Layers! For example, instead of using the TF Layers version of the `conv2d` class, [tf.layers.conv2d](https://www.tensorflow.org/api_docs/python/tf/layers/conv2d), you would want to use the TF Neural Network version of `conv2d`, [tf.nn.conv2d](https://www.tensorflow.org/api_docs/python/tf/nn/conv2d). \n",
    "\n",
    "Let's begin!\n",
    "\n",
    "### Input\n",
    "The neural network needs to read the image data, one-hot encoded labels, and dropout keep probability. Implement the following functions\n",
    "* Implement `neural_net_image_input`\n",
    " * Return a [TF Placeholder](https://www.tensorflow.org/api_docs/python/tf/placeholder)\n",
    " * Set the shape using `image_shape` with batch size set to `None`.\n",
    " * Name the TensorFlow placeholder \"x\" using the TensorFlow `name` parameter in the [TF Placeholder](https://www.tensorflow.org/api_docs/python/tf/placeholder).\n",
    "* Implement `neural_net_label_input`\n",
    " * Return a [TF Placeholder](https://www.tensorflow.org/api_docs/python/tf/placeholder)\n",
    " * Set the shape using `n_classes` with batch size set to `None`.\n",
    " * Name the TensorFlow placeholder \"y\" using the TensorFlow `name` parameter in the [TF Placeholder](https://www.tensorflow.org/api_docs/python/tf/placeholder).\n",
    "* Implement `neural_net_keep_prob_input`\n",
    " * Return a [TF Placeholder](https://www.tensorflow.org/api_docs/python/tf/placeholder) for dropout keep probability.\n",
    " * Name the TensorFlow placeholder \"keep_prob\" using the TensorFlow `name` parameter in the [TF Placeholder](https://www.tensorflow.org/api_docs/python/tf/placeholder).\n",
    "\n",
    "These names will be used at the end of the project to load your saved model.\n",
    "\n",
    "Note: `None` for shapes in TensorFlow allow for a dynamic size."
   ]
  },
  {
   "cell_type": "code",
   "execution_count": 8,
   "metadata": {},
   "outputs": [
    {
     "name": "stdout",
     "output_type": "stream",
     "text": [
      "x:0\n",
      "Image Input Tests Passed.\n",
      "10\n",
      "Label Input Tests Passed.\n",
      "Keep Prob Tests Passed.\n"
     ]
    }
   ],
   "source": [
    "import tensorflow as tf\n",
    "\n",
    "def neural_net_image_input(image_shape):\n",
    "    \"\"\"\n",
    "    Return a Tensor for a batch of image input\n",
    "    : image_shape: Shape of the images\n",
    "    : return: Tensor for image input.\n",
    "    \"\"\"\n",
    "    # TODO: Implement Function\n",
    "    x = tf.placeholder(tf.float32, shape = [None, image_shape[0], image_shape[1], image_shape[2]], name ='x')\n",
    "    print (x.name)\n",
    "    return x\n",
    "\n",
    "\n",
    "def neural_net_label_input(n_classes):\n",
    "    \"\"\"\n",
    "    Return a Tensor for a batch of label input\n",
    "    : n_classes: Number of classes\n",
    "    : return: Tensor for label input.\n",
    "    \"\"\"\n",
    "    # TODO: Implement Function\n",
    "    print (n_classes)\n",
    "    y = tf.placeholder(tf.float32, [None, n_classes], name ='y')\n",
    "    return y\n",
    "\n",
    "\n",
    "def neural_net_keep_prob_input():\n",
    "    \"\"\"\n",
    "    Return a Tensor for keep probability\n",
    "    : return: Tensor for keep probability.\n",
    "    \"\"\"\n",
    "    # TODO: Implement Function\n",
    "    keep_prob = tf.placeholder(tf.float32, name ='keep_prob')\n",
    "    return keep_prob\n",
    "\n",
    "\n",
    "\"\"\"\n",
    "DON'T MODIFY ANYTHING IN THIS CELL THAT IS BELOW THIS LINE\n",
    "\"\"\"\n",
    "tf.reset_default_graph()\n",
    "tests.test_nn_image_inputs(neural_net_image_input)\n",
    "tests.test_nn_label_inputs(neural_net_label_input)\n",
    "tests.test_nn_keep_prob_inputs(neural_net_keep_prob_input)"
   ]
  },
  {
   "cell_type": "markdown",
   "metadata": {},
   "source": [
    "### Convolution and Max Pooling Layer\n",
    "Convolution layers have a lot of success with images. For this code cell, you should implement the function `conv2d_maxpool` to apply convolution then max pooling:\n",
    "* Create the weight and bias using `conv_ksize`, `conv_num_outputs` and the shape of `x_tensor`.\n",
    "* Apply a convolution to `x_tensor` using weight and `conv_strides`.\n",
    " * We recommend you use same padding, but you're welcome to use any padding.\n",
    "* Add bias\n",
    "* Add a nonlinear activation to the convolution.\n",
    "* Apply Max Pooling using `pool_ksize` and `pool_strides`.\n",
    " * We recommend you use same padding, but you're welcome to use any padding.\n",
    "\n",
    "**Note:** You **can't** use [TensorFlow Layers](https://www.tensorflow.org/api_docs/python/tf/layers) or [TensorFlow Layers (contrib)](https://www.tensorflow.org/api_guides/python/contrib.layers) for **this** layer, but you can still use TensorFlow's [Neural Network](https://www.tensorflow.org/api_docs/python/tf/nn) package. You may still use the shortcut option for all the **other** layers."
   ]
  },
  {
   "cell_type": "code",
   "execution_count": 18,
   "metadata": {},
   "outputs": [
    {
     "name": "stdout",
     "output_type": "stream",
     "text": [
      "(2, 2, 5, 10)\n",
      "(?, 8, 8, 10)\n",
      "Tests Passed\n"
     ]
    }
   ],
   "source": [
    "def conv2d_maxpool(x_tensor, conv_num_outputs, conv_ksize, conv_strides, pool_ksize, pool_strides):\n",
    "    \"\"\"\n",
    "    Apply convolution then max pooling to x_tensor\n",
    "    :param x_tensor: TensorFlow Tensor\n",
    "    :param conv_num_outputs: Number of outputs for the convolutional layer\n",
    "    :param conv_ksize: kernal size 2-D Tuple for the convolutional layer\n",
    "    :param conv_strides: Stride 2-D Tuple for convolution\n",
    "    :param pool_ksize: kernal size 2-D Tuple for pool\n",
    "    :param pool_strides: Stride 2-D Tuple for pool\n",
    "    : return: A tensor that represents convolution and max pooling of x_tensor\n",
    "    \"\"\"\n",
    "    # TODO: Implement Function\n",
    "    # Weight and bias\n",
    "    weight = tf.Variable(tf.truncated_normal(\n",
    "        [conv_ksize[0], conv_ksize[1], x_tensor.get_shape().as_list()[3], conv_num_outputs], stddev=0.1))\n",
    "    print (weight.shape)\n",
    "    bias = tf.Variable(tf.zeros(conv_num_outputs))\n",
    "    #print (x_tensor.shape)\n",
    "    # Apply Convolution\n",
    "    conv_layer = tf.nn.conv2d(x_tensor, weight, strides=[1, conv_strides[0], conv_strides[1], 1], padding='SAME')\n",
    "    # Add bias\n",
    "    print (conv_layer.shape)\n",
    "    conv_layer = tf.nn.bias_add(conv_layer, bias)\n",
    "    # Apply activation function\n",
    "    conv_layer = tf.nn.relu(conv_layer)\n",
    "    \n",
    "    #Pooling\n",
    "    filter_shape = [1, pool_ksize[0], pool_ksize[1], 1]\n",
    "    strides = [1, pool_strides[0], pool_strides[1], 1]\n",
    "    padding = 'SAME'\n",
    "    pool = tf.nn.max_pool(conv_layer, filter_shape, strides, padding)\n",
    "    \n",
    "    return pool\n",
    "\n",
    "\n",
    "\"\"\"\n",
    "DON'T MODIFY ANYTHING IN THIS CELL THAT IS BELOW THIS LINE\n",
    "\"\"\"\n",
    "tests.test_con_pool(conv2d_maxpool)"
   ]
  },
  {
   "cell_type": "markdown",
   "metadata": {},
   "source": [
    "### Flatten Layer\n",
    "Implement the `flatten` function to change the dimension of `x_tensor` from a 4-D tensor to a 2-D tensor.  The output should be the shape (*Batch Size*, *Flattened Image Size*). Shortcut option: you can use classes from the [TensorFlow Layers](https://www.tensorflow.org/api_docs/python/tf/layers) or [TensorFlow Layers (contrib)](https://www.tensorflow.org/api_guides/python/contrib.layers) packages for this layer. For more of a challenge, only use other TensorFlow packages."
   ]
  },
  {
   "cell_type": "code",
   "execution_count": 19,
   "metadata": {},
   "outputs": [
    {
     "name": "stdout",
     "output_type": "stream",
     "text": [
      "Tests Passed\n"
     ]
    }
   ],
   "source": [
    "def flatten(x_tensor):\n",
    "    \"\"\"\n",
    "    Flatten x_tensor to (Batch Size, Flattened Image Size)\n",
    "    : x_tensor: A tensor of size (Batch Size, ...), where ... are the image dimensions.\n",
    "    : return: A tensor of size (Batch Size, Flattened Image Size).\n",
    "    \"\"\"\n",
    "    # TODO: Implement Function\n",
    "    x_flat = tf.contrib.layers.flatten(x_tensor)\n",
    "    return x_flat\n",
    "\n",
    "\n",
    "\"\"\"\n",
    "DON'T MODIFY ANYTHING IN THIS CELL THAT IS BELOW THIS LINE\n",
    "\"\"\"\n",
    "tests.test_flatten(flatten)"
   ]
  },
  {
   "cell_type": "markdown",
   "metadata": {},
   "source": [
    "### Fully-Connected Layer\n",
    "Implement the `fully_conn` function to apply a fully connected layer to `x_tensor` with the shape (*Batch Size*, *num_outputs*). Shortcut option: you can use classes from the [TensorFlow Layers](https://www.tensorflow.org/api_docs/python/tf/layers) or [TensorFlow Layers (contrib)](https://www.tensorflow.org/api_guides/python/contrib.layers) packages for this layer. For more of a challenge, only use other TensorFlow packages."
   ]
  },
  {
   "cell_type": "code",
   "execution_count": 20,
   "metadata": {},
   "outputs": [
    {
     "name": "stdout",
     "output_type": "stream",
     "text": [
      "Tests Passed\n"
     ]
    }
   ],
   "source": [
    "def fully_conn(x_tensor, num_outputs):\n",
    "    \"\"\"\n",
    "    Apply a fully connected layer to x_tensor using weight and bias\n",
    "    : x_tensor: A 2-D tensor where the first dimension is batch size.\n",
    "    : num_outputs: The number of output that the new tensor should be.\n",
    "    : return: A 2-D tensor where the second dimension is num_outputs.\n",
    "    \"\"\"\n",
    "    # TODO: Implement Function\n",
    "#     weight = tf.Variable(tf.random_normal([x_tensor[0]*x_tensor[1]*x_tensor[2],num_outputs ]))\n",
    "#     bias = tf.Variable(tf.random_normal([num_outputs]))\n",
    "#     fc1 = tf.reshape(x_tensor, [-1, weight])\n",
    "#     fc1 = tf.add(tf.matmul(fc1, weight), bias)\n",
    "#     fc1 = tf.nn.relu(fc1)\n",
    "#     #fc1 = tf.nn.dropout(fc1, dropout)\n",
    "#     return fc1\n",
    "    return tf.contrib.layers.fully_connected(inputs=x_tensor, num_outputs=num_outputs, activation_fn=tf.nn.relu)\n",
    "\n",
    "\n",
    "\"\"\"\n",
    "DON'T MODIFY ANYTHING IN THIS CELL THAT IS BELOW THIS LINE\n",
    "\"\"\"\n",
    "tests.test_fully_conn(fully_conn)"
   ]
  },
  {
   "cell_type": "markdown",
   "metadata": {},
   "source": [
    "### Output Layer\n",
    "Implement the `output` function to apply a fully connected layer to `x_tensor` with the shape (*Batch Size*, *num_outputs*). Shortcut option: you can use classes from the [TensorFlow Layers](https://www.tensorflow.org/api_docs/python/tf/layers) or [TensorFlow Layers (contrib)](https://www.tensorflow.org/api_guides/python/contrib.layers) packages for this layer. For more of a challenge, only use other TensorFlow packages.\n",
    "\n",
    "**Note:** Activation, softmax, or cross entropy should **not** be applied to this."
   ]
  },
  {
   "cell_type": "code",
   "execution_count": 21,
   "metadata": {},
   "outputs": [
    {
     "name": "stdout",
     "output_type": "stream",
     "text": [
      "Tests Passed\n"
     ]
    }
   ],
   "source": [
    "def output(x_tensor, num_outputs):\n",
    "    \"\"\"\n",
    "    Apply a output layer to x_tensor using weight and bias\n",
    "    : x_tensor: A 2-D tensor where the first dimension is batch size.\n",
    "    : num_outputs: The number of output that the new tensor should be.\n",
    "    : return: A 2-D tensor where the second dimension is num_outputs.\n",
    "    \"\"\"\n",
    "    # TODO: Implement Function\n",
    "    #out = tf.add(tf.matmul(fc1, weights['out']), biases['out'])\n",
    "    #return out\n",
    "    return tf.contrib.layers.fully_connected(inputs=x_tensor, num_outputs=num_outputs, activation_fn=None)\n",
    "\n",
    "\n",
    "\"\"\"\n",
    "DON'T MODIFY ANYTHING IN THIS CELL THAT IS BELOW THIS LINE\n",
    "\"\"\"\n",
    "tests.test_output(output)"
   ]
  },
  {
   "cell_type": "markdown",
   "metadata": {},
   "source": [
    "### Create Convolutional Model\n",
    "Implement the function `conv_net` to create a convolutional neural network model. The function takes in a batch of images, `x`, and outputs logits.  Use the layers you created above to create this model:\n",
    "\n",
    "* Apply 1, 2, or 3 Convolution and Max Pool layers\n",
    "* Apply a Flatten Layer\n",
    "* Apply 1, 2, or 3 Fully Connected Layers\n",
    "* Apply an Output Layer\n",
    "* Return the output\n",
    "* Apply [TensorFlow's Dropout](https://www.tensorflow.org/api_docs/python/tf/nn/dropout) to one or more layers in the model using `keep_prob`. "
   ]
  },
  {
   "cell_type": "code",
   "execution_count": 32,
   "metadata": {},
   "outputs": [
    {
     "name": "stdout",
     "output_type": "stream",
     "text": [
      "x:0\n",
      "10\n",
      "(8, 8, 3, 32)\n",
      "(?, 16, 16, 32)\n",
      "(4, 4, 32, 64)\n",
      "(?, 4, 4, 64)\n",
      "(2, 2, 64, 128)\n",
      "(?, 1, 1, 128)\n",
      "(8, 8, 3, 32)\n",
      "(?, 16, 16, 32)\n",
      "(4, 4, 32, 64)\n",
      "(?, 4, 4, 64)\n",
      "(2, 2, 64, 128)\n",
      "(?, 1, 1, 128)\n",
      "Neural Network Built!\n"
     ]
    }
   ],
   "source": [
    "def conv_net(x, keep_prob):\n",
    "    \"\"\"\n",
    "    Create a convolutional neural network model\n",
    "    : x: Placeholder tensor that holds image data.\n",
    "    : keep_prob: Placeholder tensor that hold dropout keep probability.\n",
    "    : return: Tensor that represents logits\n",
    "    \"\"\"\n",
    "    # TODO: Apply 1, 2, or 3 Convolution and Max Pool layers\n",
    "    #    Play around with different number of outputs, kernel size and stride\n",
    "    # Function Definition from Above:\n",
    "    #    conv2d_maxpool(x_tensor, conv_num_outputs, conv_ksize, conv_strides, pool_ksize, pool_strides)\n",
    "    conv_num_outputs1 = 32\n",
    "    conv_num_outputs2 = 64\n",
    "    conv_num_outputs3 = 128\n",
    "    conv_ksize1 = (8,8)\n",
    "    conv_ksize2 = (4,4)\n",
    "    conv_ksize3 = (2,2)\n",
    "    conv_strides = (2,2)\n",
    "    pool_ksize = (2,2)\n",
    "    pool_strides = (2,2)\n",
    "\n",
    "    cm1 = conv2d_maxpool(x, conv_num_outputs1, conv_ksize1, conv_strides, pool_ksize, pool_strides)\n",
    "    cm2 = conv2d_maxpool(cm1, conv_num_outputs2, conv_ksize2, conv_strides, pool_ksize, pool_strides)\n",
    "    cm3 = conv2d_maxpool(cm2, conv_num_outputs3, conv_ksize3, conv_strides, pool_ksize, pool_strides)\n",
    "    cmd = tf.nn.dropout(cm3, keep_prob)\n",
    "    # TODO: Apply a Flatten Layer\n",
    "    # Function Definition from Above:\n",
    "    x_tensor= flatten(cmd)\n",
    "    \n",
    "\n",
    "    # TODO: Apply 1, 2, or 3 Fully Connected Layers\n",
    "    #    Play around with different number of outputs\n",
    "    # Function Definition from Above:\n",
    "    x_tensor = fully_conn(x_tensor, 128)\n",
    "    x_tensor = fully_conn(x_tensor, 64)\n",
    "    \n",
    "    # TODO: Apply an Output Layer\n",
    "    #    Set this to the number of classes\n",
    "    # Function Definition from Above:\n",
    "    out =   output(x_tensor, 10)\n",
    "    \n",
    "    \n",
    "    # TODO: return output\n",
    "    return out\n",
    "\n",
    "\n",
    "\"\"\"\n",
    "DON'T MODIFY ANYTHING IN THIS CELL THAT IS BELOW THIS LINE\n",
    "\"\"\"\n",
    "\n",
    "##############################\n",
    "## Build the Neural Network ##\n",
    "##############################\n",
    "\n",
    "# Remove previous weights, bias, inputs, etc..\n",
    "tf.reset_default_graph()\n",
    "\n",
    "# Inputs\n",
    "x = neural_net_image_input((32, 32, 3))\n",
    "y = neural_net_label_input(10)\n",
    "keep_prob = neural_net_keep_prob_input()\n",
    "\n",
    "# Model\n",
    "logits = conv_net(x, keep_prob)\n",
    "\n",
    "# Name logits Tensor, so that is can be loaded from disk after training\n",
    "logits = tf.identity(logits, name='logits')\n",
    "\n",
    "# Loss and Optimizer\n",
    "cost = tf.reduce_mean(tf.nn.softmax_cross_entropy_with_logits(logits=logits, labels=y))\n",
    "optimizer = tf.train.AdamOptimizer().minimize(cost)\n",
    "\n",
    "# Accuracy\n",
    "correct_pred = tf.equal(tf.argmax(logits, 1), tf.argmax(y, 1))\n",
    "accuracy = tf.reduce_mean(tf.cast(correct_pred, tf.float32), name='accuracy')\n",
    "\n",
    "tests.test_conv_net(conv_net)"
   ]
  },
  {
   "cell_type": "markdown",
   "metadata": {},
   "source": [
    "## Train the Neural Network\n",
    "### Single Optimization\n",
    "Implement the function `train_neural_network` to do a single optimization.  The optimization should use `optimizer` to optimize in `session` with a `feed_dict` of the following:\n",
    "* `x` for image input\n",
    "* `y` for labels\n",
    "* `keep_prob` for keep probability for dropout\n",
    "\n",
    "This function will be called for each batch, so `tf.global_variables_initializer()` has already been called.\n",
    "\n",
    "Note: Nothing needs to be returned. This function is only optimizing the neural network."
   ]
  },
  {
   "cell_type": "code",
   "execution_count": 33,
   "metadata": {},
   "outputs": [
    {
     "name": "stdout",
     "output_type": "stream",
     "text": [
      "Tests Passed\n"
     ]
    }
   ],
   "source": [
    "def train_neural_network(session, optimizer, keep_probability, feature_batch, label_batch):\n",
    "    \"\"\"\n",
    "    Optimize the session on a batch of images and labels\n",
    "    : session: Current TensorFlow session\n",
    "    : optimizer: TensorFlow optimizer function\n",
    "    : keep_probability: keep probability\n",
    "    : feature_batch: Batch of Numpy image data\n",
    "    : label_batch: Batch of Numpy label data\n",
    "    \"\"\"\n",
    "    # TODO: Implement Function\n",
    "    \n",
    "    session.run(optimizer, feed_dict={x: feature_batch, y: label_batch, keep_prob: keep_probability})     \n",
    "    pass\n",
    "\n",
    "\n",
    "\"\"\"\n",
    "DON'T MODIFY ANYTHING IN THIS CELL THAT IS BELOW THIS LINE\n",
    "\"\"\"\n",
    "tests.test_train_nn(train_neural_network)"
   ]
  },
  {
   "cell_type": "markdown",
   "metadata": {},
   "source": [
    "### Show Stats\n",
    "Implement the function `print_stats` to print loss and validation accuracy.  Use the global variables `valid_features` and `valid_labels` to calculate validation accuracy.  Use a keep probability of `1.0` to calculate the loss and validation accuracy."
   ]
  },
  {
   "cell_type": "code",
   "execution_count": 34,
   "metadata": {
    "collapsed": true
   },
   "outputs": [],
   "source": [
    "def print_stats(session, feature_batch, label_batch, cost, accuracy):\n",
    "    \"\"\"\n",
    "    Print information about loss and validation accuracy\n",
    "    : session: Current TensorFlow session\n",
    "    : feature_batch: Batch of Numpy image data\n",
    "    : label_batch: Batch of Numpy label data\n",
    "    : cost: TensorFlow cost function\n",
    "    : accuracy: TensorFlow accuracy function\n",
    "    \"\"\"\n",
    "    # TODO: Implement Function\n",
    "    loss = session.run(cost, feed_dict={x: feature_batch, y: label_batch, keep_prob: 1.})\n",
    "    valid_acc = session.run(accuracy, feed_dict={\n",
    "    x: valid_features,\n",
    "    y: valid_labels,\n",
    "    keep_prob: 1.})\n",
    "\n",
    "    print('Loss: {:>10.4f} Validation Accuracy: {:.6f}'.format(\n",
    "    loss,\n",
    "    valid_acc))\n",
    "    pass"
   ]
  },
  {
   "cell_type": "markdown",
   "metadata": {},
   "source": [
    "### Hyperparameters\n",
    "Tune the following parameters:\n",
    "* Set `epochs` to the number of iterations until the network stops learning or start overfitting\n",
    "* Set `batch_size` to the highest number that your machine has memory for.  Most people set them to common sizes of memory:\n",
    " * 64\n",
    " * 128\n",
    " * 256\n",
    " * ...\n",
    "* Set `keep_probability` to the probability of keeping a node using dropout"
   ]
  },
  {
   "cell_type": "code",
   "execution_count": 37,
   "metadata": {
    "collapsed": true
   },
   "outputs": [],
   "source": [
    "# TODO: Tune Parameters\n",
    "epochs = 50\n",
    "batch_size = 256\n",
    "keep_probability = 0.8"
   ]
  },
  {
   "cell_type": "markdown",
   "metadata": {},
   "source": [
    "### Train on a Single CIFAR-10 Batch\n",
    "Instead of training the neural network on all the CIFAR-10 batches of data, let's use a single batch. This should save time while you iterate on the model to get a better accuracy.  Once the final validation accuracy is 50% or greater, run the model on all the data in the next section."
   ]
  },
  {
   "cell_type": "code",
   "execution_count": 38,
   "metadata": {},
   "outputs": [
    {
     "name": "stdout",
     "output_type": "stream",
     "text": [
      "Checking the Training on a Single Batch...\n",
      "Epoch  1, CIFAR-10 Batch 1:  Loss:     2.2179 Validation Accuracy: 0.202800\n",
      "Epoch  2, CIFAR-10 Batch 1:  Loss:     2.1604 Validation Accuracy: 0.280200\n",
      "Epoch  3, CIFAR-10 Batch 1:  Loss:     2.0655 Validation Accuracy: 0.325800\n",
      "Epoch  4, CIFAR-10 Batch 1:  Loss:     2.0254 Validation Accuracy: 0.287400\n",
      "Epoch  5, CIFAR-10 Batch 1:  Loss:     1.8409 Validation Accuracy: 0.371800\n",
      "Epoch  6, CIFAR-10 Batch 1:  Loss:     1.7339 Validation Accuracy: 0.350600\n",
      "Epoch  7, CIFAR-10 Batch 1:  Loss:     1.5935 Validation Accuracy: 0.415400\n",
      "Epoch  8, CIFAR-10 Batch 1:  Loss:     1.5422 Validation Accuracy: 0.435800\n",
      "Epoch  9, CIFAR-10 Batch 1:  Loss:     1.4280 Validation Accuracy: 0.432800\n",
      "Epoch 10, CIFAR-10 Batch 1:  Loss:     1.3128 Validation Accuracy: 0.455200\n",
      "Epoch 11, CIFAR-10 Batch 1:  Loss:     1.2182 Validation Accuracy: 0.463800\n",
      "Epoch 12, CIFAR-10 Batch 1:  Loss:     1.1622 Validation Accuracy: 0.471800\n",
      "Epoch 13, CIFAR-10 Batch 1:  Loss:     1.1021 Validation Accuracy: 0.472600\n",
      "Epoch 14, CIFAR-10 Batch 1:  Loss:     1.0006 Validation Accuracy: 0.469400\n",
      "Epoch 15, CIFAR-10 Batch 1:  Loss:     0.9168 Validation Accuracy: 0.482000\n",
      "Epoch 16, CIFAR-10 Batch 1:  Loss:     0.8631 Validation Accuracy: 0.493600\n",
      "Epoch 17, CIFAR-10 Batch 1:  Loss:     0.8344 Validation Accuracy: 0.487400\n",
      "Epoch 18, CIFAR-10 Batch 1:  Loss:     0.7928 Validation Accuracy: 0.490600\n",
      "Epoch 19, CIFAR-10 Batch 1:  Loss:     0.7707 Validation Accuracy: 0.479800\n",
      "Epoch 20, CIFAR-10 Batch 1:  Loss:     0.6585 Validation Accuracy: 0.485800\n",
      "Epoch 21, CIFAR-10 Batch 1:  Loss:     0.6454 Validation Accuracy: 0.477600\n",
      "Epoch 22, CIFAR-10 Batch 1:  Loss:     0.6042 Validation Accuracy: 0.485000\n",
      "Epoch 23, CIFAR-10 Batch 1:  Loss:     0.5438 Validation Accuracy: 0.502400\n",
      "Epoch 24, CIFAR-10 Batch 1:  Loss:     0.5381 Validation Accuracy: 0.496000\n",
      "Epoch 25, CIFAR-10 Batch 1:  Loss:     0.5079 Validation Accuracy: 0.507000\n",
      "Epoch 26, CIFAR-10 Batch 1:  Loss:     0.5291 Validation Accuracy: 0.494200\n",
      "Epoch 27, CIFAR-10 Batch 1:  Loss:     0.4806 Validation Accuracy: 0.512400\n",
      "Epoch 28, CIFAR-10 Batch 1:  Loss:     0.4311 Validation Accuracy: 0.513800\n",
      "Epoch 29, CIFAR-10 Batch 1:  Loss:     0.4290 Validation Accuracy: 0.512400\n",
      "Epoch 30, CIFAR-10 Batch 1:  Loss:     0.3917 Validation Accuracy: 0.524400\n",
      "Epoch 31, CIFAR-10 Batch 1:  Loss:     0.3695 Validation Accuracy: 0.516600\n",
      "Epoch 32, CIFAR-10 Batch 1:  Loss:     0.3619 Validation Accuracy: 0.514800\n",
      "Epoch 33, CIFAR-10 Batch 1:  Loss:     0.3473 Validation Accuracy: 0.510600\n",
      "Epoch 34, CIFAR-10 Batch 1:  Loss:     0.3147 Validation Accuracy: 0.520800\n",
      "Epoch 35, CIFAR-10 Batch 1:  Loss:     0.3170 Validation Accuracy: 0.506600\n",
      "Epoch 36, CIFAR-10 Batch 1:  Loss:     0.3080 Validation Accuracy: 0.510200\n",
      "Epoch 37, CIFAR-10 Batch 1:  Loss:     0.2742 Validation Accuracy: 0.522200\n",
      "Epoch 38, CIFAR-10 Batch 1:  Loss:     0.2506 Validation Accuracy: 0.520800\n",
      "Epoch 39, CIFAR-10 Batch 1:  Loss:     0.2849 Validation Accuracy: 0.528400\n",
      "Epoch 40, CIFAR-10 Batch 1:  Loss:     0.2284 Validation Accuracy: 0.526800\n",
      "Epoch 41, CIFAR-10 Batch 1:  Loss:     0.2500 Validation Accuracy: 0.514800\n",
      "Epoch 42, CIFAR-10 Batch 1:  Loss:     0.3873 Validation Accuracy: 0.482400\n",
      "Epoch 43, CIFAR-10 Batch 1:  Loss:     0.2490 Validation Accuracy: 0.506800\n",
      "Epoch 44, CIFAR-10 Batch 1:  Loss:     0.2177 Validation Accuracy: 0.503000\n",
      "Epoch 45, CIFAR-10 Batch 1:  Loss:     0.2647 Validation Accuracy: 0.490000\n",
      "Epoch 46, CIFAR-10 Batch 1:  Loss:     0.2042 Validation Accuracy: 0.495200\n",
      "Epoch 47, CIFAR-10 Batch 1:  Loss:     0.1731 Validation Accuracy: 0.519600\n",
      "Epoch 48, CIFAR-10 Batch 1:  Loss:     0.1868 Validation Accuracy: 0.518000\n",
      "Epoch 49, CIFAR-10 Batch 1:  Loss:     0.1387 Validation Accuracy: 0.528600\n",
      "Epoch 50, CIFAR-10 Batch 1:  Loss:     0.1936 Validation Accuracy: 0.515600\n"
     ]
    }
   ],
   "source": [
    "\"\"\"\n",
    "DON'T MODIFY ANYTHING IN THIS CELL\n",
    "\"\"\"\n",
    "print('Checking the Training on a Single Batch...')\n",
    "with tf.Session() as sess:\n",
    "    # Initializing the variables\n",
    "    sess.run(tf.global_variables_initializer())\n",
    "    \n",
    "    # Training cycle\n",
    "    for epoch in range(epochs):\n",
    "        batch_i = 1\n",
    "        for batch_features, batch_labels in helper.load_preprocess_training_batch(batch_i, batch_size):\n",
    "            train_neural_network(sess, optimizer, keep_probability, batch_features, batch_labels)\n",
    "        print('Epoch {:>2}, CIFAR-10 Batch {}:  '.format(epoch + 1, batch_i), end='')\n",
    "        print_stats(sess, batch_features, batch_labels, cost, accuracy)"
   ]
  },
  {
   "cell_type": "markdown",
   "metadata": {},
   "source": [
    "### Fully Train the Model\n",
    "Now that you got a good accuracy with a single CIFAR-10 batch, try it with all five batches."
   ]
  },
  {
   "cell_type": "code",
   "execution_count": 39,
   "metadata": {},
   "outputs": [
    {
     "name": "stdout",
     "output_type": "stream",
     "text": [
      "Training...\n",
      "Epoch  1, CIFAR-10 Batch 1:  Loss:     2.1755 Validation Accuracy: 0.206600\n",
      "Epoch  1, CIFAR-10 Batch 2:  Loss:     2.0161 Validation Accuracy: 0.275400\n",
      "Epoch  1, CIFAR-10 Batch 3:  Loss:     1.6814 Validation Accuracy: 0.327600\n",
      "Epoch  1, CIFAR-10 Batch 4:  Loss:     1.7381 Validation Accuracy: 0.385800\n",
      "Epoch  1, CIFAR-10 Batch 5:  Loss:     1.7471 Validation Accuracy: 0.389000\n",
      "Epoch  2, CIFAR-10 Batch 1:  Loss:     1.9228 Validation Accuracy: 0.401200\n",
      "Epoch  2, CIFAR-10 Batch 2:  Loss:     1.6904 Validation Accuracy: 0.389600\n",
      "Epoch  2, CIFAR-10 Batch 3:  Loss:     1.3418 Validation Accuracy: 0.421000\n",
      "Epoch  2, CIFAR-10 Batch 4:  Loss:     1.5892 Validation Accuracy: 0.440400\n",
      "Epoch  2, CIFAR-10 Batch 5:  Loss:     1.5205 Validation Accuracy: 0.441600\n",
      "Epoch  3, CIFAR-10 Batch 1:  Loss:     1.6676 Validation Accuracy: 0.452800\n",
      "Epoch  3, CIFAR-10 Batch 2:  Loss:     1.5112 Validation Accuracy: 0.463800\n",
      "Epoch  3, CIFAR-10 Batch 3:  Loss:     1.1357 Validation Accuracy: 0.453400\n",
      "Epoch  3, CIFAR-10 Batch 4:  Loss:     1.3823 Validation Accuracy: 0.498800\n",
      "Epoch  3, CIFAR-10 Batch 5:  Loss:     1.3747 Validation Accuracy: 0.489400\n",
      "Epoch  4, CIFAR-10 Batch 1:  Loss:     1.3991 Validation Accuracy: 0.498600\n",
      "Epoch  4, CIFAR-10 Batch 2:  Loss:     1.2997 Validation Accuracy: 0.499800\n",
      "Epoch  4, CIFAR-10 Batch 3:  Loss:     1.0181 Validation Accuracy: 0.497800\n",
      "Epoch  4, CIFAR-10 Batch 4:  Loss:     1.2219 Validation Accuracy: 0.519600\n",
      "Epoch  4, CIFAR-10 Batch 5:  Loss:     1.1935 Validation Accuracy: 0.523200\n",
      "Epoch  5, CIFAR-10 Batch 1:  Loss:     1.3313 Validation Accuracy: 0.504400\n",
      "Epoch  5, CIFAR-10 Batch 2:  Loss:     1.1641 Validation Accuracy: 0.531000\n",
      "Epoch  5, CIFAR-10 Batch 3:  Loss:     0.9087 Validation Accuracy: 0.515400\n",
      "Epoch  5, CIFAR-10 Batch 4:  Loss:     1.0800 Validation Accuracy: 0.542000\n",
      "Epoch  5, CIFAR-10 Batch 5:  Loss:     1.0671 Validation Accuracy: 0.545000\n",
      "Epoch  6, CIFAR-10 Batch 1:  Loss:     1.1931 Validation Accuracy: 0.532400\n",
      "Epoch  6, CIFAR-10 Batch 2:  Loss:     1.0479 Validation Accuracy: 0.544400\n",
      "Epoch  6, CIFAR-10 Batch 3:  Loss:     0.8432 Validation Accuracy: 0.537000\n",
      "Epoch  6, CIFAR-10 Batch 4:  Loss:     0.9603 Validation Accuracy: 0.555400\n",
      "Epoch  6, CIFAR-10 Batch 5:  Loss:     0.9941 Validation Accuracy: 0.549400\n",
      "Epoch  7, CIFAR-10 Batch 1:  Loss:     1.1265 Validation Accuracy: 0.538400\n",
      "Epoch  7, CIFAR-10 Batch 2:  Loss:     0.8881 Validation Accuracy: 0.564600\n",
      "Epoch  7, CIFAR-10 Batch 3:  Loss:     0.7584 Validation Accuracy: 0.547200\n",
      "Epoch  7, CIFAR-10 Batch 4:  Loss:     0.8810 Validation Accuracy: 0.573600\n",
      "Epoch  7, CIFAR-10 Batch 5:  Loss:     0.8610 Validation Accuracy: 0.561600\n",
      "Epoch  8, CIFAR-10 Batch 1:  Loss:     0.9187 Validation Accuracy: 0.569600\n",
      "Epoch  8, CIFAR-10 Batch 2:  Loss:     0.9034 Validation Accuracy: 0.560400\n",
      "Epoch  8, CIFAR-10 Batch 3:  Loss:     0.6796 Validation Accuracy: 0.565600\n",
      "Epoch  8, CIFAR-10 Batch 4:  Loss:     0.7895 Validation Accuracy: 0.581200\n",
      "Epoch  8, CIFAR-10 Batch 5:  Loss:     0.7963 Validation Accuracy: 0.580200\n",
      "Epoch  9, CIFAR-10 Batch 1:  Loss:     0.8912 Validation Accuracy: 0.568000\n",
      "Epoch  9, CIFAR-10 Batch 2:  Loss:     0.7169 Validation Accuracy: 0.585600\n",
      "Epoch  9, CIFAR-10 Batch 3:  Loss:     0.5782 Validation Accuracy: 0.556600\n",
      "Epoch  9, CIFAR-10 Batch 4:  Loss:     0.7150 Validation Accuracy: 0.594600\n",
      "Epoch  9, CIFAR-10 Batch 5:  Loss:     0.6921 Validation Accuracy: 0.591600\n",
      "Epoch 10, CIFAR-10 Batch 1:  Loss:     0.7254 Validation Accuracy: 0.581000\n",
      "Epoch 10, CIFAR-10 Batch 2:  Loss:     0.5600 Validation Accuracy: 0.592200\n",
      "Epoch 10, CIFAR-10 Batch 3:  Loss:     0.4774 Validation Accuracy: 0.592000\n",
      "Epoch 10, CIFAR-10 Batch 4:  Loss:     0.6927 Validation Accuracy: 0.598400\n",
      "Epoch 10, CIFAR-10 Batch 5:  Loss:     0.6071 Validation Accuracy: 0.593200\n",
      "Epoch 11, CIFAR-10 Batch 1:  Loss:     0.6976 Validation Accuracy: 0.587800\n",
      "Epoch 11, CIFAR-10 Batch 2:  Loss:     0.5404 Validation Accuracy: 0.593600\n",
      "Epoch 11, CIFAR-10 Batch 3:  Loss:     0.4342 Validation Accuracy: 0.599600\n",
      "Epoch 11, CIFAR-10 Batch 4:  Loss:     0.6254 Validation Accuracy: 0.593400\n",
      "Epoch 11, CIFAR-10 Batch 5:  Loss:     0.5380 Validation Accuracy: 0.614400\n",
      "Epoch 12, CIFAR-10 Batch 1:  Loss:     0.6396 Validation Accuracy: 0.602800\n",
      "Epoch 12, CIFAR-10 Batch 2:  Loss:     0.4916 Validation Accuracy: 0.610600\n",
      "Epoch 12, CIFAR-10 Batch 3:  Loss:     0.4155 Validation Accuracy: 0.594200\n",
      "Epoch 12, CIFAR-10 Batch 4:  Loss:     0.5584 Validation Accuracy: 0.597800\n",
      "Epoch 12, CIFAR-10 Batch 5:  Loss:     0.5006 Validation Accuracy: 0.615000\n",
      "Epoch 13, CIFAR-10 Batch 1:  Loss:     0.6058 Validation Accuracy: 0.597800\n",
      "Epoch 13, CIFAR-10 Batch 2:  Loss:     0.4427 Validation Accuracy: 0.599400\n",
      "Epoch 13, CIFAR-10 Batch 3:  Loss:     0.3411 Validation Accuracy: 0.611200\n",
      "Epoch 13, CIFAR-10 Batch 4:  Loss:     0.5079 Validation Accuracy: 0.609400\n",
      "Epoch 13, CIFAR-10 Batch 5:  Loss:     0.4774 Validation Accuracy: 0.615800\n",
      "Epoch 14, CIFAR-10 Batch 1:  Loss:     0.5056 Validation Accuracy: 0.620200\n",
      "Epoch 14, CIFAR-10 Batch 2:  Loss:     0.4335 Validation Accuracy: 0.614600\n",
      "Epoch 14, CIFAR-10 Batch 3:  Loss:     0.3591 Validation Accuracy: 0.610800\n",
      "Epoch 14, CIFAR-10 Batch 4:  Loss:     0.4570 Validation Accuracy: 0.608400\n",
      "Epoch 14, CIFAR-10 Batch 5:  Loss:     0.4154 Validation Accuracy: 0.618600\n",
      "Epoch 15, CIFAR-10 Batch 1:  Loss:     0.5083 Validation Accuracy: 0.610600\n",
      "Epoch 15, CIFAR-10 Batch 2:  Loss:     0.3522 Validation Accuracy: 0.617600\n",
      "Epoch 15, CIFAR-10 Batch 3:  Loss:     0.3198 Validation Accuracy: 0.626400\n",
      "Epoch 15, CIFAR-10 Batch 4:  Loss:     0.4612 Validation Accuracy: 0.611400\n",
      "Epoch 15, CIFAR-10 Batch 5:  Loss:     0.3798 Validation Accuracy: 0.622200\n",
      "Epoch 16, CIFAR-10 Batch 1:  Loss:     0.5070 Validation Accuracy: 0.609400\n",
      "Epoch 16, CIFAR-10 Batch 2:  Loss:     0.3411 Validation Accuracy: 0.621200\n",
      "Epoch 16, CIFAR-10 Batch 3:  Loss:     0.3311 Validation Accuracy: 0.608800\n",
      "Epoch 16, CIFAR-10 Batch 4:  Loss:     0.4418 Validation Accuracy: 0.603400\n",
      "Epoch 16, CIFAR-10 Batch 5:  Loss:     0.3638 Validation Accuracy: 0.622600\n",
      "Epoch 17, CIFAR-10 Batch 1:  Loss:     0.4555 Validation Accuracy: 0.624800\n",
      "Epoch 17, CIFAR-10 Batch 2:  Loss:     0.3508 Validation Accuracy: 0.611400\n",
      "Epoch 17, CIFAR-10 Batch 3:  Loss:     0.2704 Validation Accuracy: 0.615600\n",
      "Epoch 17, CIFAR-10 Batch 4:  Loss:     0.3875 Validation Accuracy: 0.618400\n",
      "Epoch 17, CIFAR-10 Batch 5:  Loss:     0.3803 Validation Accuracy: 0.613200\n",
      "Epoch 18, CIFAR-10 Batch 1:  Loss:     0.4392 Validation Accuracy: 0.635200\n",
      "Epoch 18, CIFAR-10 Batch 2:  Loss:     0.3112 Validation Accuracy: 0.626600\n",
      "Epoch 18, CIFAR-10 Batch 3:  Loss:     0.2624 Validation Accuracy: 0.628600\n",
      "Epoch 18, CIFAR-10 Batch 4:  Loss:     0.3328 Validation Accuracy: 0.622200\n",
      "Epoch 18, CIFAR-10 Batch 5:  Loss:     0.3095 Validation Accuracy: 0.623200\n",
      "Epoch 19, CIFAR-10 Batch 1:  Loss:     0.3915 Validation Accuracy: 0.634600\n",
      "Epoch 19, CIFAR-10 Batch 2:  Loss:     0.2759 Validation Accuracy: 0.628200\n",
      "Epoch 19, CIFAR-10 Batch 3:  Loss:     0.2419 Validation Accuracy: 0.635400\n",
      "Epoch 19, CIFAR-10 Batch 4:  Loss:     0.2859 Validation Accuracy: 0.633800\n",
      "Epoch 19, CIFAR-10 Batch 5:  Loss:     0.2680 Validation Accuracy: 0.621200\n",
      "Epoch 20, CIFAR-10 Batch 1:  Loss:     0.3933 Validation Accuracy: 0.622000\n",
      "Epoch 20, CIFAR-10 Batch 2:  Loss:     0.2529 Validation Accuracy: 0.627800\n",
      "Epoch 20, CIFAR-10 Batch 3:  Loss:     0.2287 Validation Accuracy: 0.624800\n",
      "Epoch 20, CIFAR-10 Batch 4:  Loss:     0.2926 Validation Accuracy: 0.627400\n",
      "Epoch 20, CIFAR-10 Batch 5:  Loss:     0.2694 Validation Accuracy: 0.628800\n",
      "Epoch 21, CIFAR-10 Batch 1:  Loss:     0.3282 Validation Accuracy: 0.624000\n",
      "Epoch 21, CIFAR-10 Batch 2:  Loss:     0.2371 Validation Accuracy: 0.623200\n",
      "Epoch 21, CIFAR-10 Batch 3:  Loss:     0.2465 Validation Accuracy: 0.623200\n",
      "Epoch 21, CIFAR-10 Batch 4:  Loss:     0.2827 Validation Accuracy: 0.632000\n",
      "Epoch 21, CIFAR-10 Batch 5:  Loss:     0.2270 Validation Accuracy: 0.637400\n",
      "Epoch 22, CIFAR-10 Batch 1:  Loss:     0.2730 Validation Accuracy: 0.627200\n",
      "Epoch 22, CIFAR-10 Batch 2:  Loss:     0.2376 Validation Accuracy: 0.619800\n",
      "Epoch 22, CIFAR-10 Batch 3:  Loss:     0.2399 Validation Accuracy: 0.627000\n"
     ]
    },
    {
     "name": "stdout",
     "output_type": "stream",
     "text": [
      "Epoch 22, CIFAR-10 Batch 4:  Loss:     0.2852 Validation Accuracy: 0.641600\n",
      "Epoch 22, CIFAR-10 Batch 5:  Loss:     0.2285 Validation Accuracy: 0.639400\n",
      "Epoch 23, CIFAR-10 Batch 1:  Loss:     0.2803 Validation Accuracy: 0.621600\n",
      "Epoch 23, CIFAR-10 Batch 2:  Loss:     0.2133 Validation Accuracy: 0.625800\n",
      "Epoch 23, CIFAR-10 Batch 3:  Loss:     0.2188 Validation Accuracy: 0.623800\n",
      "Epoch 23, CIFAR-10 Batch 4:  Loss:     0.2625 Validation Accuracy: 0.628400\n",
      "Epoch 23, CIFAR-10 Batch 5:  Loss:     0.2355 Validation Accuracy: 0.635600\n",
      "Epoch 24, CIFAR-10 Batch 1:  Loss:     0.2835 Validation Accuracy: 0.616400\n",
      "Epoch 24, CIFAR-10 Batch 2:  Loss:     0.2131 Validation Accuracy: 0.627000\n",
      "Epoch 24, CIFAR-10 Batch 3:  Loss:     0.1885 Validation Accuracy: 0.627200\n",
      "Epoch 24, CIFAR-10 Batch 4:  Loss:     0.2370 Validation Accuracy: 0.633800\n",
      "Epoch 24, CIFAR-10 Batch 5:  Loss:     0.2436 Validation Accuracy: 0.627000\n",
      "Epoch 25, CIFAR-10 Batch 1:  Loss:     0.2470 Validation Accuracy: 0.615400\n",
      "Epoch 25, CIFAR-10 Batch 2:  Loss:     0.2235 Validation Accuracy: 0.622800\n",
      "Epoch 25, CIFAR-10 Batch 3:  Loss:     0.1964 Validation Accuracy: 0.632200\n",
      "Epoch 25, CIFAR-10 Batch 4:  Loss:     0.2097 Validation Accuracy: 0.634800\n",
      "Epoch 25, CIFAR-10 Batch 5:  Loss:     0.1895 Validation Accuracy: 0.647200\n",
      "Epoch 26, CIFAR-10 Batch 1:  Loss:     0.2841 Validation Accuracy: 0.614800\n",
      "Epoch 26, CIFAR-10 Batch 2:  Loss:     0.2497 Validation Accuracy: 0.612200\n",
      "Epoch 26, CIFAR-10 Batch 3:  Loss:     0.2012 Validation Accuracy: 0.620400\n",
      "Epoch 26, CIFAR-10 Batch 4:  Loss:     0.2087 Validation Accuracy: 0.643400\n",
      "Epoch 26, CIFAR-10 Batch 5:  Loss:     0.1846 Validation Accuracy: 0.644200\n",
      "Epoch 27, CIFAR-10 Batch 1:  Loss:     0.2619 Validation Accuracy: 0.623400\n",
      "Epoch 27, CIFAR-10 Batch 2:  Loss:     0.1931 Validation Accuracy: 0.630400\n",
      "Epoch 27, CIFAR-10 Batch 3:  Loss:     0.1729 Validation Accuracy: 0.617800\n",
      "Epoch 27, CIFAR-10 Batch 4:  Loss:     0.2007 Validation Accuracy: 0.639400\n",
      "Epoch 27, CIFAR-10 Batch 5:  Loss:     0.1836 Validation Accuracy: 0.626400\n",
      "Epoch 28, CIFAR-10 Batch 1:  Loss:     0.2336 Validation Accuracy: 0.627600\n",
      "Epoch 28, CIFAR-10 Batch 2:  Loss:     0.1996 Validation Accuracy: 0.633200\n",
      "Epoch 28, CIFAR-10 Batch 3:  Loss:     0.1713 Validation Accuracy: 0.612200\n",
      "Epoch 28, CIFAR-10 Batch 4:  Loss:     0.1901 Validation Accuracy: 0.648200\n",
      "Epoch 28, CIFAR-10 Batch 5:  Loss:     0.1530 Validation Accuracy: 0.625000\n",
      "Epoch 29, CIFAR-10 Batch 1:  Loss:     0.2052 Validation Accuracy: 0.628400\n",
      "Epoch 29, CIFAR-10 Batch 2:  Loss:     0.2011 Validation Accuracy: 0.627800\n",
      "Epoch 29, CIFAR-10 Batch 3:  Loss:     0.1699 Validation Accuracy: 0.620800\n",
      "Epoch 29, CIFAR-10 Batch 4:  Loss:     0.1768 Validation Accuracy: 0.646000\n",
      "Epoch 29, CIFAR-10 Batch 5:  Loss:     0.1491 Validation Accuracy: 0.638000\n",
      "Epoch 30, CIFAR-10 Batch 1:  Loss:     0.2226 Validation Accuracy: 0.619800\n",
      "Epoch 30, CIFAR-10 Batch 2:  Loss:     0.2109 Validation Accuracy: 0.630000\n",
      "Epoch 30, CIFAR-10 Batch 3:  Loss:     0.1741 Validation Accuracy: 0.624800\n",
      "Epoch 30, CIFAR-10 Batch 4:  Loss:     0.2023 Validation Accuracy: 0.641400\n",
      "Epoch 30, CIFAR-10 Batch 5:  Loss:     0.1306 Validation Accuracy: 0.629800\n",
      "Epoch 31, CIFAR-10 Batch 1:  Loss:     0.1789 Validation Accuracy: 0.636600\n",
      "Epoch 31, CIFAR-10 Batch 2:  Loss:     0.1629 Validation Accuracy: 0.629200\n",
      "Epoch 31, CIFAR-10 Batch 3:  Loss:     0.1633 Validation Accuracy: 0.636600\n",
      "Epoch 31, CIFAR-10 Batch 4:  Loss:     0.1866 Validation Accuracy: 0.623400\n",
      "Epoch 31, CIFAR-10 Batch 5:  Loss:     0.1247 Validation Accuracy: 0.634000\n",
      "Epoch 32, CIFAR-10 Batch 1:  Loss:     0.2074 Validation Accuracy: 0.628400\n",
      "Epoch 32, CIFAR-10 Batch 2:  Loss:     0.1633 Validation Accuracy: 0.631200\n",
      "Epoch 32, CIFAR-10 Batch 3:  Loss:     0.1318 Validation Accuracy: 0.633200\n",
      "Epoch 32, CIFAR-10 Batch 4:  Loss:     0.1616 Validation Accuracy: 0.640000\n",
      "Epoch 32, CIFAR-10 Batch 5:  Loss:     0.1188 Validation Accuracy: 0.630200\n",
      "Epoch 33, CIFAR-10 Batch 1:  Loss:     0.2100 Validation Accuracy: 0.632800\n",
      "Epoch 33, CIFAR-10 Batch 2:  Loss:     0.1489 Validation Accuracy: 0.623400\n",
      "Epoch 33, CIFAR-10 Batch 3:  Loss:     0.1292 Validation Accuracy: 0.633200\n",
      "Epoch 33, CIFAR-10 Batch 4:  Loss:     0.1692 Validation Accuracy: 0.633400\n",
      "Epoch 33, CIFAR-10 Batch 5:  Loss:     0.1187 Validation Accuracy: 0.643000\n",
      "Epoch 34, CIFAR-10 Batch 1:  Loss:     0.2060 Validation Accuracy: 0.623000\n",
      "Epoch 34, CIFAR-10 Batch 2:  Loss:     0.1509 Validation Accuracy: 0.639600\n",
      "Epoch 34, CIFAR-10 Batch 3:  Loss:     0.1509 Validation Accuracy: 0.626000\n",
      "Epoch 34, CIFAR-10 Batch 4:  Loss:     0.1584 Validation Accuracy: 0.634200\n",
      "Epoch 34, CIFAR-10 Batch 5:  Loss:     0.1259 Validation Accuracy: 0.632000\n",
      "Epoch 35, CIFAR-10 Batch 1:  Loss:     0.1772 Validation Accuracy: 0.612800\n",
      "Epoch 35, CIFAR-10 Batch 2:  Loss:     0.1387 Validation Accuracy: 0.620200\n",
      "Epoch 35, CIFAR-10 Batch 3:  Loss:     0.1260 Validation Accuracy: 0.639400\n",
      "Epoch 35, CIFAR-10 Batch 4:  Loss:     0.1302 Validation Accuracy: 0.625600\n",
      "Epoch 35, CIFAR-10 Batch 5:  Loss:     0.1312 Validation Accuracy: 0.626800\n",
      "Epoch 36, CIFAR-10 Batch 1:  Loss:     0.1813 Validation Accuracy: 0.624000\n",
      "Epoch 36, CIFAR-10 Batch 2:  Loss:     0.1756 Validation Accuracy: 0.608600\n",
      "Epoch 36, CIFAR-10 Batch 3:  Loss:     0.1640 Validation Accuracy: 0.628800\n",
      "Epoch 36, CIFAR-10 Batch 4:  Loss:     0.1267 Validation Accuracy: 0.627600\n",
      "Epoch 36, CIFAR-10 Batch 5:  Loss:     0.1364 Validation Accuracy: 0.642200\n",
      "Epoch 37, CIFAR-10 Batch 1:  Loss:     0.1768 Validation Accuracy: 0.637000\n",
      "Epoch 37, CIFAR-10 Batch 2:  Loss:     0.1362 Validation Accuracy: 0.624400\n",
      "Epoch 37, CIFAR-10 Batch 3:  Loss:     0.1348 Validation Accuracy: 0.631200\n",
      "Epoch 37, CIFAR-10 Batch 4:  Loss:     0.1375 Validation Accuracy: 0.628000\n",
      "Epoch 37, CIFAR-10 Batch 5:  Loss:     0.1131 Validation Accuracy: 0.644000\n",
      "Epoch 38, CIFAR-10 Batch 1:  Loss:     0.1702 Validation Accuracy: 0.627200\n",
      "Epoch 38, CIFAR-10 Batch 2:  Loss:     0.1508 Validation Accuracy: 0.617000\n",
      "Epoch 38, CIFAR-10 Batch 3:  Loss:     0.1302 Validation Accuracy: 0.619800\n",
      "Epoch 38, CIFAR-10 Batch 4:  Loss:     0.1378 Validation Accuracy: 0.623600\n",
      "Epoch 38, CIFAR-10 Batch 5:  Loss:     0.1046 Validation Accuracy: 0.646400\n",
      "Epoch 39, CIFAR-10 Batch 1:  Loss:     0.1448 Validation Accuracy: 0.646000\n",
      "Epoch 39, CIFAR-10 Batch 2:  Loss:     0.1284 Validation Accuracy: 0.616600\n",
      "Epoch 39, CIFAR-10 Batch 3:  Loss:     0.1332 Validation Accuracy: 0.616200\n",
      "Epoch 39, CIFAR-10 Batch 4:  Loss:     0.1390 Validation Accuracy: 0.638400\n",
      "Epoch 39, CIFAR-10 Batch 5:  Loss:     0.1046 Validation Accuracy: 0.645600\n",
      "Epoch 40, CIFAR-10 Batch 1:  Loss:     0.1565 Validation Accuracy: 0.639200\n",
      "Epoch 40, CIFAR-10 Batch 2:  Loss:     0.0962 Validation Accuracy: 0.634200\n",
      "Epoch 40, CIFAR-10 Batch 3:  Loss:     0.1218 Validation Accuracy: 0.621000\n",
      "Epoch 40, CIFAR-10 Batch 4:  Loss:     0.1340 Validation Accuracy: 0.647000\n",
      "Epoch 40, CIFAR-10 Batch 5:  Loss:     0.1095 Validation Accuracy: 0.647400\n",
      "Epoch 41, CIFAR-10 Batch 1:  Loss:     0.1277 Validation Accuracy: 0.634800\n",
      "Epoch 41, CIFAR-10 Batch 2:  Loss:     0.1218 Validation Accuracy: 0.629600\n",
      "Epoch 41, CIFAR-10 Batch 3:  Loss:     0.1143 Validation Accuracy: 0.613800\n",
      "Epoch 41, CIFAR-10 Batch 4:  Loss:     0.1247 Validation Accuracy: 0.637600\n",
      "Epoch 41, CIFAR-10 Batch 5:  Loss:     0.1062 Validation Accuracy: 0.643200\n",
      "Epoch 42, CIFAR-10 Batch 1:  Loss:     0.1331 Validation Accuracy: 0.637200\n",
      "Epoch 42, CIFAR-10 Batch 2:  Loss:     0.1061 Validation Accuracy: 0.627600\n",
      "Epoch 42, CIFAR-10 Batch 3:  Loss:     0.0971 Validation Accuracy: 0.620200\n",
      "Epoch 42, CIFAR-10 Batch 4:  Loss:     0.1121 Validation Accuracy: 0.644800\n",
      "Epoch 42, CIFAR-10 Batch 5:  Loss:     0.0954 Validation Accuracy: 0.644000\n",
      "Epoch 43, CIFAR-10 Batch 1:  Loss:     0.1234 Validation Accuracy: 0.637200\n",
      "Epoch 43, CIFAR-10 Batch 2:  Loss:     0.1166 Validation Accuracy: 0.615400\n",
      "Epoch 43, CIFAR-10 Batch 3:  Loss:     0.1101 Validation Accuracy: 0.625600\n",
      "Epoch 43, CIFAR-10 Batch 4:  Loss:     0.1246 Validation Accuracy: 0.637400\n",
      "Epoch 43, CIFAR-10 Batch 5:  Loss:     0.0733 Validation Accuracy: 0.646400\n",
      "Epoch 44, CIFAR-10 Batch 1:  Loss:     0.1277 Validation Accuracy: 0.633600\n"
     ]
    },
    {
     "name": "stdout",
     "output_type": "stream",
     "text": [
      "Epoch 44, CIFAR-10 Batch 2:  Loss:     0.1358 Validation Accuracy: 0.626000\n",
      "Epoch 44, CIFAR-10 Batch 3:  Loss:     0.1219 Validation Accuracy: 0.634000\n",
      "Epoch 44, CIFAR-10 Batch 4:  Loss:     0.1020 Validation Accuracy: 0.631400\n",
      "Epoch 44, CIFAR-10 Batch 5:  Loss:     0.0862 Validation Accuracy: 0.642000\n",
      "Epoch 45, CIFAR-10 Batch 1:  Loss:     0.1585 Validation Accuracy: 0.627600\n",
      "Epoch 45, CIFAR-10 Batch 2:  Loss:     0.1094 Validation Accuracy: 0.624800\n",
      "Epoch 45, CIFAR-10 Batch 3:  Loss:     0.0995 Validation Accuracy: 0.626200\n",
      "Epoch 45, CIFAR-10 Batch 4:  Loss:     0.1229 Validation Accuracy: 0.635000\n",
      "Epoch 45, CIFAR-10 Batch 5:  Loss:     0.0873 Validation Accuracy: 0.644000\n",
      "Epoch 46, CIFAR-10 Batch 1:  Loss:     0.1442 Validation Accuracy: 0.630000\n",
      "Epoch 46, CIFAR-10 Batch 2:  Loss:     0.1470 Validation Accuracy: 0.613000\n",
      "Epoch 46, CIFAR-10 Batch 3:  Loss:     0.0950 Validation Accuracy: 0.638400\n",
      "Epoch 46, CIFAR-10 Batch 4:  Loss:     0.1020 Validation Accuracy: 0.636800\n",
      "Epoch 46, CIFAR-10 Batch 5:  Loss:     0.0805 Validation Accuracy: 0.641800\n",
      "Epoch 47, CIFAR-10 Batch 1:  Loss:     0.1050 Validation Accuracy: 0.636000\n",
      "Epoch 47, CIFAR-10 Batch 2:  Loss:     0.1020 Validation Accuracy: 0.621200\n",
      "Epoch 47, CIFAR-10 Batch 3:  Loss:     0.1102 Validation Accuracy: 0.634200\n",
      "Epoch 47, CIFAR-10 Batch 4:  Loss:     0.1010 Validation Accuracy: 0.639000\n",
      "Epoch 47, CIFAR-10 Batch 5:  Loss:     0.0765 Validation Accuracy: 0.642400\n",
      "Epoch 48, CIFAR-10 Batch 1:  Loss:     0.1052 Validation Accuracy: 0.637600\n",
      "Epoch 48, CIFAR-10 Batch 2:  Loss:     0.1125 Validation Accuracy: 0.618800\n",
      "Epoch 48, CIFAR-10 Batch 3:  Loss:     0.0894 Validation Accuracy: 0.630800\n",
      "Epoch 48, CIFAR-10 Batch 4:  Loss:     0.0931 Validation Accuracy: 0.640400\n",
      "Epoch 48, CIFAR-10 Batch 5:  Loss:     0.0735 Validation Accuracy: 0.641600\n",
      "Epoch 49, CIFAR-10 Batch 1:  Loss:     0.0935 Validation Accuracy: 0.635800\n",
      "Epoch 49, CIFAR-10 Batch 2:  Loss:     0.1196 Validation Accuracy: 0.617000\n",
      "Epoch 49, CIFAR-10 Batch 3:  Loss:     0.0841 Validation Accuracy: 0.635200\n",
      "Epoch 49, CIFAR-10 Batch 4:  Loss:     0.0808 Validation Accuracy: 0.636400\n",
      "Epoch 49, CIFAR-10 Batch 5:  Loss:     0.0859 Validation Accuracy: 0.636800\n",
      "Epoch 50, CIFAR-10 Batch 1:  Loss:     0.1123 Validation Accuracy: 0.634000\n",
      "Epoch 50, CIFAR-10 Batch 2:  Loss:     0.1224 Validation Accuracy: 0.608600\n",
      "Epoch 50, CIFAR-10 Batch 3:  Loss:     0.0930 Validation Accuracy: 0.633200\n",
      "Epoch 50, CIFAR-10 Batch 4:  Loss:     0.0906 Validation Accuracy: 0.639800\n",
      "Epoch 50, CIFAR-10 Batch 5:  Loss:     0.0743 Validation Accuracy: 0.625000\n"
     ]
    }
   ],
   "source": [
    "\"\"\"\n",
    "DON'T MODIFY ANYTHING IN THIS CELL\n",
    "\"\"\"\n",
    "save_model_path = './image_classification'\n",
    "\n",
    "print('Training...')\n",
    "with tf.Session() as sess:\n",
    "    # Initializing the variables\n",
    "    sess.run(tf.global_variables_initializer())\n",
    "    \n",
    "    # Training cycle\n",
    "    for epoch in range(epochs):\n",
    "        # Loop over all batches\n",
    "        n_batches = 5\n",
    "        for batch_i in range(1, n_batches + 1):\n",
    "            for batch_features, batch_labels in helper.load_preprocess_training_batch(batch_i, batch_size):\n",
    "                train_neural_network(sess, optimizer, keep_probability, batch_features, batch_labels)\n",
    "            print('Epoch {:>2}, CIFAR-10 Batch {}:  '.format(epoch + 1, batch_i), end='')\n",
    "            print_stats(sess, batch_features, batch_labels, cost, accuracy)\n",
    "            \n",
    "    # Save Model\n",
    "    saver = tf.train.Saver()\n",
    "    save_path = saver.save(sess, save_model_path)"
   ]
  },
  {
   "cell_type": "markdown",
   "metadata": {},
   "source": [
    "# Checkpoint\n",
    "The model has been saved to disk.\n",
    "## Test Model\n",
    "Test your model against the test dataset.  This will be your final accuracy. You should have an accuracy greater than 50%. If you don't, keep tweaking the model architecture and parameters."
   ]
  },
  {
   "cell_type": "code",
   "execution_count": 40,
   "metadata": {},
   "outputs": [
    {
     "name": "stdout",
     "output_type": "stream",
     "text": [
      "INFO:tensorflow:Restoring parameters from ./image_classification\n",
      "Testing Accuracy: 0.62197265625\n",
      "\n"
     ]
    },
    {
     "data": {
      "image/png": "[encoded data removed]",
      "text/plain": [
       "<matplotlib.figure.Figure at 0x7f2815159470>"
      ]
     },
     "metadata": {
      "image/png": {
       "height": 319,
       "width": 355
      }
     },
     "output_type": "display_data"
    }
   ],
   "source": [
    "\"\"\"\n",
    "DON'T MODIFY ANYTHING IN THIS CELL\n",
    "\"\"\"\n",
    "%matplotlib inline\n",
    "%config InlineBackend.figure_format = 'retina'\n",
    "\n",
    "import tensorflow as tf\n",
    "import pickle\n",
    "import helper\n",
    "import random\n",
    "\n",
    "# Set batch size if not already set\n",
    "try:\n",
    "    if batch_size:\n",
    "        pass\n",
    "except NameError:\n",
    "    batch_size = 64\n",
    "\n",
    "save_model_path = './image_classification'\n",
    "n_samples = 4\n",
    "top_n_predictions = 3\n",
    "\n",
    "def test_model():\n",
    "    \"\"\"\n",
    "    Test the saved model against the test dataset\n",
    "    \"\"\"\n",
    "\n",
    "    test_features, test_labels = pickle.load(open('preprocess_test.p', mode='rb'))\n",
    "    loaded_graph = tf.Graph()\n",
    "\n",
    "    with tf.Session(graph=loaded_graph) as sess:\n",
    "        # Load model\n",
    "        loader = tf.train.import_meta_graph(save_model_path + '.meta')\n",
    "        loader.restore(sess, save_model_path)\n",
    "\n",
    "        # Get Tensors from loaded model\n",
    "        loaded_x = loaded_graph.get_tensor_by_name('x:0')\n",
    "        loaded_y = loaded_graph.get_tensor_by_name('y:0')\n",
    "        loaded_keep_prob = loaded_graph.get_tensor_by_name('keep_prob:0')\n",
    "        loaded_logits = loaded_graph.get_tensor_by_name('logits:0')\n",
    "        loaded_acc = loaded_graph.get_tensor_by_name('accuracy:0')\n",
    "        \n",
    "        # Get accuracy in batches for memory limitations\n",
    "        test_batch_acc_total = 0\n",
    "        test_batch_count = 0\n",
    "        \n",
    "        for test_feature_batch, test_label_batch in helper.batch_features_labels(test_features, test_labels, batch_size):\n",
    "            test_batch_acc_total += sess.run(\n",
    "                loaded_acc,\n",
    "                feed_dict={loaded_x: test_feature_batch, loaded_y: test_label_batch, loaded_keep_prob: 1.0})\n",
    "            test_batch_count += 1\n",
    "\n",
    "        print('Testing Accuracy: {}\\n'.format(test_batch_acc_total/test_batch_count))\n",
    "\n",
    "        # Print Random Samples\n",
    "        random_test_features, random_test_labels = tuple(zip(*random.sample(list(zip(test_features, test_labels)), n_samples)))\n",
    "        random_test_predictions = sess.run(\n",
    "            tf.nn.top_k(tf.nn.softmax(loaded_logits), top_n_predictions),\n",
    "            feed_dict={loaded_x: random_test_features, loaded_y: random_test_labels, loaded_keep_prob: 1.0})\n",
    "        helper.display_image_predictions(random_test_features, random_test_labels, random_test_predictions)\n",
    "\n",
    "\n",
    "test_model()"
   ]
  },
  {
   "cell_type": "markdown",
   "metadata": {},
   "source": [
    "## Why 50-80% Accuracy?\n",
    "You might be wondering why you can't get an accuracy any higher. First things first, 50% isn't bad for a simple CNN.  Pure guessing would get you 10% accuracy. However, you might notice people are getting scores [well above 80%](http://rodrigob.github.io/are_we_there_yet/build/classification_datasets_results.html#43494641522d3130).  That's because we haven't taught you all there is to know about neural networks. We still need to cover a few more techniques.\n",
    "## Submitting This Project\n",
    "When submitting this project, make sure to run all the cells before saving the notebook.  Save the notebook file as \"dlnd_image_classification.ipynb\" and save it as a HTML file under \"File\" -> \"Download as\".  Include the \"helper.py\" and \"problem_unittests.py\" files in your submission."
   ]
  }
 ],
 "metadata": {
  "kernelspec": {
   "display_name": "Python 3",
   "language": "python",
   "name": "python3"
  },
  "language_info": {
   "codemirror_mode": {
    "name": "ipython",
    "version": 3
   },
   "file_extension": ".py",
   "mimetype": "text/x-python",
   "name": "python",
   "nbconvert_exporter": "python",
   "pygments_lexer": "ipython3",
   "version": "3.5.3"
  }
 },
 "nbformat": 4,
 "nbformat_minor": 1
}
